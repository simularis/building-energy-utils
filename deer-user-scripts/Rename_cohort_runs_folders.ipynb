{
 "cells": [
  {
   "cell_type": "code",
   "execution_count": 42,
   "id": "530449a0",
   "metadata": {},
   "outputs": [],
   "source": [
    "from pathlib import Path\n",
    "import pandas\n",
    "import shutil\n",
    "import pandas as pd\n",
    "import os"
   ]
  },
  {
   "cell_type": "markdown",
   "id": "89f90193",
   "metadata": {},
   "source": [
    "### Read directories"
   ]
  },
  {
   "cell_type": "code",
   "execution_count": 43,
   "id": "1ff5a7d6",
   "metadata": {},
   "outputs": [],
   "source": [
    "output_dir = r'C:\\DEER-SWHC024-05\\commercial measures\\SWHC024-05 Fan Belt\\SWHC024-05 Fan Belt_New'\n",
    "\n",
    "dir_result = os.path.join(output_dir, 'results-summary.csv')\n",
    "dir_cohorts = os.path.join(output_dir, 'renamed_cohort.xlsx')"
   ]
  },
  {
   "cell_type": "markdown",
   "id": "9432e51c",
   "metadata": {},
   "source": [
    "### extract multiple dataframes from results-summary.csv"
   ]
  },
  {
   "cell_type": "code",
   "execution_count": 44,
   "id": "1081b121",
   "metadata": {},
   "outputs": [],
   "source": [
    "def read_csv_with_multiple_dataframes(file_path):\n",
    "    dataframes = []\n",
    "    current_df = []\n",
    "    \n",
    "    with open(file_path, 'r') as file:\n",
    "        for line in file:\n",
    "            line = line.strip()  \n",
    "            \n",
    "            if not line:\n",
    "                if current_df:  \n",
    "                    df = pd.DataFrame(current_df[1:], columns=current_df[0])  # Use first row as column names\n",
    "                    dataframes.append(df)\n",
    "                    current_df = []  # Reset for the next DataFrame\n",
    "            else:\n",
    "                current_df.append(line.split(','))  \n",
    "        \n",
    "        if current_df:\n",
    "            df = pd.DataFrame(current_df[1:], columns=current_df[0])  # Use first row as column names\n",
    "            dataframes.append(df)\n",
    "    \n",
    "    return dataframes\n",
    "\n",
    "file_path = dir_result\n",
    "dataframes = read_csv_with_multiple_dataframes(file_path)\n"
   ]
  },
  {
   "cell_type": "markdown",
   "id": "992ca0e3",
   "metadata": {},
   "source": [
    "### change building prototype names to updated ones and save it as results-summary_new.csv "
   ]
  },
  {
   "cell_type": "code",
   "execution_count": 45,
   "id": "a0c1c987",
   "metadata": {},
   "outputs": [],
   "source": [
    "cohort_df = pd.read_excel(dir_cohorts)\n",
    "\n",
    "final_df = pd.DataFrame()\n",
    "\n",
    "with open(output_dir + '\\\\results-summary_new.csv', 'w', newline='') as file:\n",
    "    for i, result_df in enumerate(dataframes):\n",
    "        result_df['Type'] = result_df['File Name'].str.split('/').str[1]\n",
    "        result_df['Type'] = result_df['Type'].map(cohort_df.set_index('type')['revised cohort']).fillna(result_df['Type'])\n",
    "\n",
    "        for index, row in result_df.iterrows():\n",
    "            if pd.notna(row['File Name']):\n",
    "                file_name_parts = row['File Name'].split('/')\n",
    "                if len(file_name_parts) < 4:\n",
    "                    continue  \n",
    "                file_name_parts[1] = row['Type']\n",
    "                new_file_name = '/'.join(file_name_parts)\n",
    "                result_df.loc[index, 'File Name'] = new_file_name\n",
    "\n",
    "        result_df.drop(columns=['Type'], inplace=True)\n",
    "        \n",
    "        result_df.to_csv(file, index=False)\n",
    "        \n",
    "        # Add an empty row between dataframes except for the last one\n",
    "        if i < len(dataframes) - 1:\n",
    "            file.write('\\r\\n')\n"
   ]
  },
  {
   "cell_type": "code",
   "execution_count": null,
   "id": "2dc5fe65",
   "metadata": {},
   "outputs": [],
   "source": []
  },
  {
   "cell_type": "code",
   "execution_count": null,
   "id": "d25eee58",
   "metadata": {},
   "outputs": [],
   "source": []
  }
 ],
 "metadata": {
  "kernelspec": {
   "display_name": "Python 3 (ipykernel)",
   "language": "python",
   "name": "python3"
  },
  "language_info": {
   "codemirror_mode": {
    "name": "ipython",
    "version": 3
   },
   "file_extension": ".py",
   "mimetype": "text/x-python",
   "name": "python",
   "nbconvert_exporter": "python",
   "pygments_lexer": "ipython3",
   "version": "3.11.5"
  }
 },
 "nbformat": 4,
 "nbformat_minor": 5
}
