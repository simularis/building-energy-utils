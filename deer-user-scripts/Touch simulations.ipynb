{
 "cells": [
  {
   "cell_type": "markdown",
   "id": "ad2f8889",
   "metadata": {},
   "source": [
    "Use this script to \"touch\" simulation files to update their timestamps.\n",
    "This may be needed to instruct modelkit to **not** re-run simulations,\n",
    "if the model setup files have been refreshed (due to git checkout)."
   ]
  },
  {
   "cell_type": "code",
   "execution_count": 1,
   "id": "857919d4",
   "metadata": {},
   "outputs": [],
   "source": [
    "from pathlib import Path\n"
   ]
  },
  {
   "cell_type": "code",
   "execution_count": 9,
   "id": "19d2e461",
   "metadata": {},
   "outputs": [],
   "source": [
    "simfolder = Path(r'E:\\SWCR015\\commercial measures\\SWCR015-04 Med-Temp Case Doors\\SWCR015-04 Med-Temp Case Doors_Ex\\runs')"
   ]
  },
  {
   "cell_type": "code",
   "execution_count": 21,
   "id": "1f4a8775",
   "metadata": {},
   "outputs": [
    {
     "data": {
      "text/plain": [
       "<generator object Path.glob at 0x000002247148BF20>"
      ]
     },
     "execution_count": 21,
     "metadata": {},
     "output_type": "execute_result"
    }
   ],
   "source": [
    "allfiles = simfolder.glob(\"**\\*.*\")\n",
    "allfiles"
   ]
  },
  {
   "cell_type": "code",
   "execution_count": 22,
   "id": "69dedcdd",
   "metadata": {},
   "outputs": [],
   "source": [
    "for f in allfiles:\n",
    "    f.touch()\n"
   ]
  },
  {
   "cell_type": "code",
   "execution_count": null,
   "id": "e2d038a3",
   "metadata": {},
   "outputs": [],
   "source": []
  }
 ],
 "metadata": {
  "kernelspec": {
   "display_name": "Python 3 (ipykernel)",
   "language": "python",
   "name": "python3"
  },
  "language_info": {
   "codemirror_mode": {
    "name": "ipython",
    "version": 3
   },
   "file_extension": ".py",
   "mimetype": "text/x-python",
   "name": "python",
   "nbconvert_exporter": "python",
   "pygments_lexer": "ipython3",
   "version": "3.9.7"
  }
 },
 "nbformat": 4,
 "nbformat_minor": 5
}
